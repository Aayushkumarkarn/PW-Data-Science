{
 "cells": [
  {
   "cell_type": "code",
   "execution_count": 21,
   "id": "544e5f89-3cc1-4a94-bea8-2bc916fd9fe4",
   "metadata": {},
   "outputs": [
    {
     "name": "stdout",
     "output_type": "stream",
     "text": [
      "Before swapping 3 and Y: 4\n",
      "After swapping 4 and Y: 3\n"
     ]
    }
   ],
   "source": [
    "#1 Declare and initialize variables\n",
    "X, Y = 3,4\n",
    "\n",
    "#2 Creating function to swap the variables\n",
    "def swap_variables(X,Y):\n",
    "  print(f\"Before swapping {X} and Y: {Y}\")\n",
    "  X,Y = Y, X\n",
    "  print(f\"After swapping {X} and Y: {Y}\")\n",
    "\n",
    "swap_variables(X,Y)"
   ]
  },
  {
   "cell_type": "code",
   "execution_count": 16,
   "id": "b1847603-7a0f-4b74-ac4f-02431ed9ccf5",
   "metadata": {},
   "outputs": [],
   "source": [
    "#Ques2 Find the area of rectangle"
   ]
  },
  {
   "cell_type": "code",
   "execution_count": 24,
   "id": "8007ac8d-2043-45da-8877-ee4f9e938a63",
   "metadata": {},
   "outputs": [
    {
     "name": "stdin",
     "output_type": "stream",
     "text": [
      "Enter the lenght of the rectangle:  5\n",
      "Enter the breadth of the rectangle:  7\n"
     ]
    },
    {
     "name": "stdout",
     "output_type": "stream",
     "text": [
      "Area of rectangle is  35.0\n"
     ]
    }
   ],
   "source": [
    "#1 Take a input of length and breadth from the user\n",
    "#2 lenght = l\n",
    "#3 bradth = b\n",
    "\n",
    "l = float(input(\"Enter the lenght of the rectangle: \"))\n",
    "b = float(input(\"Enter the breadth of the rectangle: \"))\n",
    "\n",
    "#4 Area of rectangle = l*b\n",
    "\n",
    "Area_of_rectangle = l*b\n",
    "\n",
    "# Calculate Area of rectangle\n",
    "\n",
    "print ('Area of rectangle is ', Area_of_rectangle)\n"
   ]
  },
  {
   "cell_type": "code",
   "execution_count": 25,
   "id": "8c22272c-b7fe-4502-845e-8a657665e237",
   "metadata": {},
   "outputs": [],
   "source": [
    "#Ques3 converts temperatures from Celsius to Fahrenheit."
   ]
  },
  {
   "cell_type": "code",
   "execution_count": 34,
   "id": "f1402065-e109-4e51-b621-297ec0decd16",
   "metadata": {},
   "outputs": [
    {
     "name": "stdin",
     "output_type": "stream",
     "text": [
      "Enter the celcius: 45\n"
     ]
    },
    {
     "name": "stdout",
     "output_type": "stream",
     "text": [
      "Fahrenheit 113.0\n"
     ]
    }
   ],
   "source": [
    "#1 User enter the temperature in Celsius\n",
    "#2 C = Celcius\n",
    "C = float(input(\"Enter the celcius:\"))\n",
    "#3 Formula of Convert Celsius to Fahrenheit is  (C * 9/5) + 32\n",
    "#4 F = Fahrenheit\n",
    "F =  (C * 9/5) + 32\n",
    "#5 Show the converted celcius to Fahrenheit\n",
    "print('Fahrenheit',F)"
   ]
  },
  {
   "cell_type": "code",
   "execution_count": 35,
   "id": "bdebbecc-8a71-4121-b931-e961bff20908",
   "metadata": {},
   "outputs": [],
   "source": [
    "# String Based Solutions"
   ]
  },
  {
   "cell_type": "code",
   "execution_count": 44,
   "id": "cd81ff8a-a46b-4053-86b4-f7cfd8090eec",
   "metadata": {},
   "outputs": [
    {
     "name": "stdin",
     "output_type": "stream",
     "text": [
      "Enter the string:  Aayush love Mom & Dad\n"
     ]
    },
    {
     "name": "stdout",
     "output_type": "stream",
     "text": [
      "The length of te string is 21\n"
     ]
    }
   ],
   "source": [
    "#Solution 1 takes a string as input and prints the length of the string.\n",
    "\n",
    "#1 Enter the String\n",
    "\n",
    "String = input(\"Enter the string: \")\n",
    "\n",
    "#2 Calculate the length of the string with the help of  built-in len() function\n",
    "\n",
    "String_length =len(String)\n",
    "\n",
    "#Calculate the lenght of the string\n",
    "\n",
    "print('The length of te string is', String_length)"
   ]
  },
  {
   "cell_type": "code",
   "execution_count": 5,
   "id": "48431ffa-bd00-4280-8197-400a216fca57",
   "metadata": {},
   "outputs": [
    {
     "name": "stdin",
     "output_type": "stream",
     "text": [
      "Enter the sentence: Bam Bam Bhole\n"
     ]
    },
    {
     "name": "stdout",
     "output_type": "stream",
     "text": [
      "Number of vowels: 4\n"
     ]
    }
   ],
   "source": [
    "#1 Take sentence as a input from user\n",
    "Sentence = input(\"Enter the sentence:\")\n",
    "\n",
    "#2 Initialize a variable to count the vowels\n",
    "vowel_count = 0\n",
    "\n",
    "#3 Iterate through each character in the sentence\n",
    "\n",
    "for char in Sentence:\n",
    "    \n",
    "#step 4: Convert the character to lowercase to handle both uppercase and lowercase vowels\n",
    "\n",
    "    char_lower = char.lower()\n",
    "\n",
    "#5 Check if the character is a vowel (a, e, i, o, u)\n",
    "    if char_lower in \"aeiou\":\n",
    "        \n",
    "#6 If the character is a vowel, increment the vowel_count variable\n",
    "        vowel_count += 1\n",
    "\n",
    "#7 Display the result\n",
    "print(\"Number of vowels:\", vowel_count)"
   ]
  },
  {
   "cell_type": "code",
   "execution_count": 6,
   "id": "cb044d57-728c-47af-adfa-d92a93fc9774",
   "metadata": {},
   "outputs": [],
   "source": [
    "#3 print the reversed string."
   ]
  },
  {
   "cell_type": "code",
   "execution_count": 12,
   "id": "65c235a4-9e4d-44cf-b962-d0ec63e06de8",
   "metadata": {},
   "outputs": [
    {
     "name": "stdin",
     "output_type": "stream",
     "text": [
      "Enter the string: maR ayiS maR\n"
     ]
    },
    {
     "name": "stdout",
     "output_type": "stream",
     "text": [
      "Reversed string is: Ram Siya Ram\n"
     ]
    }
   ],
   "source": [
    "#1 Take string as input form the user\n",
    "\n",
    "String = input(\"Enter the string:\")\n",
    "\n",
    "#2 String slicing to reverse the string\n",
    "# Syntax of slicing is: [start:end:step]\n",
    "\n",
    "Reverse_String = String[::-1]\n",
    "\n",
    "#Print the Reversed stirng\n",
    "\n",
    "print (\"Reversed string is:\", Reverse_String)"
   ]
  },
  {
   "cell_type": "code",
   "execution_count": 2,
   "id": "896a58e5-ab2b-41aa-81cb-670cf2dcaa66",
   "metadata": {},
   "outputs": [],
   "source": [
    "#4 take a string as input and checks if it is a palindrome?"
   ]
  },
  {
   "cell_type": "code",
   "execution_count": 6,
   "id": "b91dd055-8292-403b-bacc-89b132eb3e17",
   "metadata": {},
   "outputs": [
    {
     "name": "stdin",
     "output_type": "stream",
     "text": [
      "Enter the string: I love you Bhole Baba\n"
     ]
    },
    {
     "name": "stdout",
     "output_type": "stream",
     "text": [
      "String is not a palindrome.\n"
     ]
    }
   ],
   "source": [
    "#1 Take string as input form the user\n",
    "\n",
    "String = input(\"Enter the string:\")\n",
    "\n",
    "#2 Create mnew string and replace the spaces and change it to lower case String.\n",
    "\n",
    "New_String = String.replace('','').lower()\n",
    "\n",
    "#3 Reverse the New string using slicing method\n",
    "reversed_string = New_String[::-1]\n",
    "\n",
    "#4 Compare the New String with its reverse to check for palindrome\n",
    "if New_String == reversed_string:\n",
    "    print(\"String is a palindrome.\")\n",
    "else:\n",
    "    print(\"String is not a palindrome.\")"
   ]
  },
  {
   "cell_type": "code",
   "execution_count": 7,
   "id": "58631c56-5aa1-4b9c-9b0c-655aeacab9f5",
   "metadata": {},
   "outputs": [],
   "source": [
    "#5 Takes a string as input and removes all the spaces from it. Print the modified string without spaces."
   ]
  },
  {
   "cell_type": "code",
   "execution_count": 5,
   "id": "9ec6c8b8-9d15-4fc5-ae12-5410102bb6c2",
   "metadata": {},
   "outputs": [
    {
     "name": "stdin",
     "output_type": "stream",
     "text": [
      "Enter the string: Can I learn Data science\n"
     ]
    },
    {
     "name": "stdout",
     "output_type": "stream",
     "text": [
      "CanIlearnDatascience\n"
     ]
    }
   ],
   "source": [
    "#1 create a remove functuion\n",
    "\n",
    "def remove(string):\n",
    "    \n",
    "#2 replace the spaces from the sring.\n",
    "\n",
    "    return string.replace(\" \", \"\")\n",
    " \n",
    "#3 Take string input from the user \n",
    "\n",
    "string = input('Enter the string:')\n",
    "\n",
    "#4 Print the string\n",
    "\n",
    "print(remove(string))"
   ]
  },
  {
   "cell_type": "code",
   "execution_count": null,
   "id": "4fbf852a-9b27-491b-9045-4e0e1d32126f",
   "metadata": {},
   "outputs": [],
   "source": []
  }
 ],
 "metadata": {
  "kernelspec": {
   "display_name": "Python 3 (ipykernel)",
   "language": "python",
   "name": "python3"
  },
  "language_info": {
   "codemirror_mode": {
    "name": "ipython",
    "version": 3
   },
   "file_extension": ".py",
   "mimetype": "text/x-python",
   "name": "python",
   "nbconvert_exporter": "python",
   "pygments_lexer": "ipython3",
   "version": "3.10.8"
  }
 },
 "nbformat": 4,
 "nbformat_minor": 5
}
